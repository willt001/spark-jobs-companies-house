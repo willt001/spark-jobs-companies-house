{
 "cells": [
  {
   "cell_type": "code",
   "execution_count": 5,
   "metadata": {},
   "outputs": [],
   "source": [
    "from pyspark.sql import SparkSession, Window\n",
    "from pyspark.sql.functions import col, datediff, current_date, round, dense_rank, when\n",
    "import os\n",
    "\n",
    "\n",
    "spark = SparkSession.builder.master('local[4]').getOrCreate()\n"
   ]
  },
  {
   "cell_type": "code",
   "execution_count": 6,
   "metadata": {},
   "outputs": [
    {
     "name": "stdout",
     "output_type": "stream",
     "text": [
      "companies.csv 1416.655816078186\n",
      "companies_sic_codes.csv 1591.1925315856934\n",
      "filings.csv 2041.9274320602417\n",
      "officers_and_owners.csv 1697.7515335083008\n",
      "6747.527313232422\n"
     ]
    }
   ],
   "source": [
    "# Get input file sizes in MB\n",
    "total = 0\n",
    "for file in os.listdir('../corporate_uk'):\n",
    "    print(file, os.path.getsize(f'../corporate_uk/{file}') / (1024**2))\n",
    "    total += os.path.getsize(f'../corporate_uk/{file}') / (1024**2)\n",
    "print(total)"
   ]
  },
  {
   "cell_type": "code",
   "execution_count": 7,
   "metadata": {},
   "outputs": [],
   "source": [
    "companies = spark.read.option('delimiter', ';').option('header', 'true').csv('../corporate_uk/companies.csv')\\\n",
    "    .withColumn('current_assets', col('current_assets').cast('double'))\\\n",
    "    .withColumn('average_number_employees_during_period', col('average_number_employees_during_period').cast('double'))\\\n",
    "    .withColumn('account_type', when(col('account_type') == 'Null', None).otherwise(col('account_type')))\n",
    "sic_codes = spark.read.option('delimiter', ';').option('header', 'true').csv('../corporate_uk/companies_sic_codes.csv')\n",
    "filings = spark.read.option('delimiter', ';').option('header', 'true').csv('../corporate_uk/filings.csv')\\\n",
    "    .withColumn('pages', col('pages').cast('int'))\n",
    "owners = spark.read.option('delimiter', ';').option('header', 'true').csv('../corporate_uk/officers_and_owners.csv')"
   ]
  },
  {
   "cell_type": "code",
   "execution_count": 8,
   "metadata": {},
   "outputs": [
    {
     "name": "stdout",
     "output_type": "stream",
     "text": [
      "+----------------------+-------+\n",
      "|company_status        |count  |\n",
      "+----------------------+-------+\n",
      "|Active                |4744110|\n",
      "|Dissolved             |534818 |\n",
      "|Liquidation           |110597 |\n",
      "|Registered            |29219  |\n",
      "|In Administration     |3612   |\n",
      "|Receiver Action       |2683   |\n",
      "|Open                  |1075   |\n",
      "|Removed               |1035   |\n",
      "|Converted / Closed    |591    |\n",
      "|Voluntary Arrangement |513    |\n",
      "|Insolvency Proceedings|345    |\n",
      "|Closed                |302    |\n",
      "+----------------------+-------+\n",
      "\n"
     ]
    }
   ],
   "source": [
    "companies.groupBy('company_status')\\\n",
    "    .count()\\\n",
    "    .sort('count', ascending=False)\\\n",
    "    .show(truncate=False)"
   ]
  },
  {
   "cell_type": "code",
   "execution_count": 9,
   "metadata": {},
   "outputs": [
    {
     "name": "stdout",
     "output_type": "stream",
     "text": [
      "+----------------+------------+-------+\n",
      "|jurisdiction    |account_type|count  |\n",
      "+----------------+------------+-------+\n",
      "|England/Wales   |Micro Entity|1711811|\n",
      "|European Union  |Micro Entity|1      |\n",
      "|Northern Ireland|Micro Entity|30758  |\n",
      "|Scotland        |Micro Entity|88516  |\n",
      "|United Kingdom  |Full        |5906   |\n",
      "|Wales           |Micro Entity|12363  |\n",
      "+----------------+------------+-------+\n",
      "\n"
     ]
    }
   ],
   "source": [
    "# Which account type is most common in each jurisdiction?\n",
    "w = Window.partitionBy(['jurisdiction']).orderBy(col('count').desc())\n",
    "companies.filter(col('jurisdiction').isNotNull() & col('account_type').isNotNull())\\\n",
    "        .groupBy(['jurisdiction', 'account_type'])\\\n",
    "        .count()\\\n",
    "        .withColumn('rnk', dense_rank().over(w))\\\n",
    "        .where(col('rnk') == 1)\\\n",
    "        .drop(col('rnk'))\\\n",
    "        .sort(col('jurisdiction'))\\\n",
    "        .show(truncate=False)"
   ]
  },
  {
   "cell_type": "code",
   "execution_count": 10,
   "metadata": {},
   "outputs": [
    {
     "name": "stdout",
     "output_type": "stream",
     "text": [
      "+--------------------------------------------------------------------+---------------------------------------------------------------------------+------+\n",
      "|sic_section                                                         |sic_division                                                               |count |\n",
      "+--------------------------------------------------------------------+---------------------------------------------------------------------------+------+\n",
      "|Real estate activities                                              |Real estate activities                                                     |831302|\n",
      "|Wholesale and retail trade; repair of motor vehicles and motorcycles|Retail trade, except of motor vehicles and motorcycles                     |690760|\n",
      "|Construction                                                        |Specialised construction activities                                        |413583|\n",
      "|Information and communication                                       |Computer programming, consultancy and related activities                   |400105|\n",
      "|Professional, scientific and technical activities                   |Activities of head offices; management consultancy activities              |363547|\n",
      "|Wholesale and retail trade; repair of motor vehicles and motorcycles|Wholesale trade, except of motor vehicles and motorcycles                  |325555|\n",
      "|Accommodation and food service activities                           |Food and beverage service activities                                       |321192|\n",
      "|Administrative and support service activities                       |Office administrative, office support and other business support activities|321051|\n",
      "|Construction                                                        |Construction of buildings                                                  |296135|\n",
      "|Other service activities                                            |Other personal service activities                                          |286812|\n",
      "+--------------------------------------------------------------------+---------------------------------------------------------------------------+------+\n",
      "\n"
     ]
    }
   ],
   "source": [
    "sic_codes.groupBy(['sic_section', 'sic_division'])\\\n",
    "    .count()\\\n",
    "    .sort(col('count').desc())\\\n",
    "    .limit(10)\\\n",
    "    .show(truncate=False)"
   ]
  },
  {
   "cell_type": "code",
   "execution_count": 11,
   "metadata": {},
   "outputs": [
    {
     "name": "stdout",
     "output_type": "stream",
     "text": [
      "+--------------------------------------------------------------------------------------+-----------+\n",
      "|company_type                                                                          |average_age|\n",
      "+--------------------------------------------------------------------------------------+-----------+\n",
      "|Overseas entity                                                                       |1.83       |\n",
      "|Further education or sixth form college corporation                                   |4.16       |\n",
      "|Protected cell company                                                                |4.78       |\n",
      "|Scottish qualifying partnership                                                       |5.54       |\n",
      "|UK establishment company                                                              |7.14       |\n",
      "|Limited liability partnership                                                         |9.26       |\n",
      "|Private limited company                                                               |9.4        |\n",
      "|United Kingdom Societas                                                               |12.6       |\n",
      "|Private limited by guarantee without share capital                                    |13.75      |\n",
      "|Limited partnership                                                                   |13.98      |\n",
      "|Converted / closed                                                                    |14.36      |\n",
      "|Overseas company                                                                      |16.06      |\n",
      "|Private Limited Company by guarantee without share capital, use of 'Limited' exemption|16.16      |\n",
      "|United Kingdom Economic Interest Grouping                                             |21.28      |\n",
      "|Private unlimited company                                                             |24.71      |\n",
      "|Public limited company                                                                |25.63      |\n",
      "|European Economic Interest Grouping (EEIG)                                            |30.56      |\n",
      "|Private unlimited company without share capital                                       |34.72      |\n",
      "|Private Limited Company, use of 'Limited' exemption                                   |96.01      |\n",
      "|Old public company                                                                    |96.48      |\n",
      "+--------------------------------------------------------------------------------------+-----------+\n",
      "only showing top 20 rows\n",
      "\n"
     ]
    }
   ],
   "source": [
    "companies.withColumn('age', datediff(current_date(), col('incorporation_date')) / 365.25)\\\n",
    ".select([\n",
    "    'company_type', \n",
    "    'age'])\\\n",
    ".groupBy('company_type')\\\n",
    ".avg()\\\n",
    ".withColumn('average_age', round(col('avg(age)'), 2))\\\n",
    ".drop(col('avg(age)'))\\\n",
    ".sort(col('average_age'))\\\n",
    ".show(truncate=False)"
   ]
  },
  {
   "cell_type": "code",
   "execution_count": 12,
   "metadata": {},
   "outputs": [
    {
     "name": "stdout",
     "output_type": "stream",
     "text": [
      "+--------------------+\n",
      "|        company_name|\n",
      "+--------------------+\n",
      "|  Jensen Telecom Ltd|\n",
      "| Barrow Boys Limited|\n",
      "|Seagull Internati...|\n",
      "|  Deborah Coates Ltd|\n",
      "|2mc Holdings Limited|\n",
      "|Sunny Sandcastles...|\n",
      "|     Uneed2relax Ltd|\n",
      "|Serhat Wholesale ...|\n",
      "|         Demodem Ltd|\n",
      "|Florin Contracts ...|\n",
      "|Cullingford Carpe...|\n",
      "|Woodstock Product...|\n",
      "|Waves Hotels Grou...|\n",
      "|  Shollwaves Limited|\n",
      "|Industrialize Uk Ltd|\n",
      "|Whole Recruitment...|\n",
      "|  Bertea Ipswich Ltd|\n",
      "|Focus Industry An...|\n",
      "|Mns Retail Interi...|\n",
      "|       Sdhac Limited|\n",
      "+--------------------+\n",
      "only showing top 20 rows\n",
      "\n"
     ]
    }
   ],
   "source": [
    "companies.filter((companies.next_accounts_overdue == True) | (companies.confirmation_statement_overdue == True))\\\n",
    "    .select(col('company_name'))\\\n",
    "    .distinct()\\\n",
    "    .show()"
   ]
  },
  {
   "cell_type": "code",
   "execution_count": 13,
   "metadata": {},
   "outputs": [
    {
     "name": "stdout",
     "output_type": "stream",
     "text": [
      "+---------------------------+-------+----------+\n",
      "|account_type               |count  |percentage|\n",
      "+---------------------------+-------+----------+\n",
      "|Micro Entity               |1843452|33.956    |\n",
      "|Total Exemption Full       |1346638|24.805    |\n",
      "|NULL                       |1083040|19.95     |\n",
      "|Dormant                    |742074 |13.669    |\n",
      "|Unaudited abridged         |175651 |3.235     |\n",
      "|Full                       |96017  |1.769     |\n",
      "|Small                      |72571  |1.337     |\n",
      "|Group                      |27025  |0.498     |\n",
      "|Audit Exemption Subsidiary |25788  |0.475     |\n",
      "|Total Exemption Small      |12266  |0.226     |\n",
      "|Medium                     |1451   |0.027     |\n",
      "|Audited abridged           |1437   |0.026     |\n",
      "|No accounts type available |928    |0.017     |\n",
      "|Filing Exemption Subsidiary|367    |0.007     |\n",
      "|Interim                    |162    |0.003     |\n",
      "|Partial Exemption          |29     |0.001     |\n",
      "|Initial                    |4      |0.0       |\n",
      "+---------------------------+-------+----------+\n",
      "\n"
     ]
    }
   ],
   "source": [
    "companies.groupBy('account_type')\\\n",
    "    .count()\\\n",
    "    .withColumn('percentage', round(100 * col('count') / companies.count(), 3))\\\n",
    "    .sort('percentage', ascending=False)\\\n",
    "    .show(truncate=False)"
   ]
  },
  {
   "cell_type": "code",
   "execution_count": 14,
   "metadata": {},
   "outputs": [
    {
     "name": "stdout",
     "output_type": "stream",
     "text": [
      "+--------------------------------------------------------------------------------------------------+--------------------+\n",
      "|sic_description                                                                                   |avg(current_assets) |\n",
      "+--------------------------------------------------------------------------------------------------+--------------------+\n",
      "|Banks                                                                                             |1.6769202507543105E8|\n",
      "|Financial leasing                                                                                 |1.1421620102743903E8|\n",
      "|Security dealing on own account                                                                   |3.2738479891555935E7|\n",
      "|Activities of mortgage finance companies                                                          |2.472619615787771E7 |\n",
      "|Treatment and disposal of hazardous waste                                                         |1.643513333625731E7 |\n",
      "|Factoring                                                                                         |1.521084158490566E7 |\n",
      "|Manufacture of fertilizers and nitrogen compounds                                                 |1.1035204849315068E7|\n",
      "|Activities of unit trusts                                                                         |1.017551557142857E7 |\n",
      "|Activities of production holding companies                                                        |9620636.87254902    |\n",
      "|Cold drawing of bars                                                                              |9249942.444444444   |\n",
      "|Activities of credit bureaus                                                                      |6584702.6           |\n",
      "|Activities of investment trusts                                                                   |5485144.813391877   |\n",
      "|Other credit granting n.e.c.                                                                      |5366580.212695795   |\n",
      "|Security and commodity contracts dealing activities                                               |5068651.659494855   |\n",
      "|Treatment and disposal of non-hazardous waste                                                     |4837203.057938299   |\n",
      "|Credit granting by non-deposit taking finance houses and other specialist consumer credit grantors|4060420.9984686063  |\n",
      "|Cold drawing of wire                                                                              |3899323.0           |\n",
      "|Activities of financial services holding companies                                                |3882720.0523186685  |\n",
      "|Cold rolling of narrow strip                                                                      |3521299.846153846   |\n",
      "|Mining of uranium and thorium ores                                                                |3366247.3333333335  |\n",
      "+--------------------------------------------------------------------------------------------------+--------------------+\n",
      "only showing top 20 rows\n",
      "\n"
     ]
    }
   ],
   "source": [
    "# Which SIC codes have the highest current assets on average?\n",
    "companies.join(sic_codes, 'company_number', how='left')\\\n",
    "    .select([\n",
    "        companies.company_number, \n",
    "        sic_codes.sic_code, \n",
    "        sic_codes.sic_description,\n",
    "        companies.current_assets\n",
    "    ])\\\n",
    "    .groupBy('sic_description')\\\n",
    "    .avg('current_assets')\\\n",
    "    .sort('avg(current_assets)', ascending=False)\\\n",
    "    .show(truncate=False)"
   ]
  },
  {
   "cell_type": "code",
   "execution_count": 15,
   "metadata": {},
   "outputs": [
    {
     "name": "stdout",
     "output_type": "stream",
     "text": [
      "+--------------------------------------------------------------------------------------+-------------+\n",
      "|company_type                                                                          |avg_employees|\n",
      "+--------------------------------------------------------------------------------------+-------------+\n",
      "|Converted / closed                                                                    |2            |\n",
      "|Private unlimited company                                                             |11           |\n",
      "|Public limited company                                                                |49           |\n",
      "|Private limited company                                                               |206          |\n",
      "|Private limited by guarantee without share capital                                    |251          |\n",
      "|Private Limited Company by guarantee without share capital, use of 'Limited' exemption|21           |\n",
      "|Private unlimited company without share capital                                       |1            |\n",
      "|Private Limited Company, use of 'Limited' exemption                                   |2            |\n",
      "|Limited liability partnership                                                         |544          |\n",
      "|United Kingdom Economic Interest Grouping                                             |NULL         |\n",
      "|Old public company                                                                    |NULL         |\n",
      "|Scottish qualifying partnership                                                       |NULL         |\n",
      "|Limited partnership                                                                   |NULL         |\n",
      "|European Economic Interest Grouping (EEIG)                                            |NULL         |\n",
      "|Overseas entity                                                                       |NULL         |\n",
      "|UK establishment company                                                              |NULL         |\n",
      "|Overseas company                                                                      |NULL         |\n",
      "|United Kingdom Societas                                                               |NULL         |\n",
      "|Protected cell company                                                                |NULL         |\n",
      "|Other company type                                                                    |NULL         |\n",
      "+--------------------------------------------------------------------------------------+-------------+\n",
      "only showing top 20 rows\n",
      "\n"
     ]
    }
   ],
   "source": [
    "companies.groupBy('company_type')\\\n",
    "    .avg('average_number_employees_during_period')\\\n",
    "    .withColumn('avg_employees', col('avg(average_number_employees_during_period)').cast('int'))\\\n",
    "    .drop('avg(average_number_employees_during_period)')\\\n",
    "    .show(truncate=False)"
   ]
  },
  {
   "cell_type": "code",
   "execution_count": 16,
   "metadata": {},
   "outputs": [
    {
     "name": "stdout",
     "output_type": "stream",
     "text": [
      "+--------------------+-------+\n",
      "|     company_country|  count|\n",
      "+--------------------+-------+\n",
      "|                NULL|3908976|\n",
      "|      united kingdom| 173234|\n",
      "|            scotland|   3912|\n",
      "|              jersey|   1891|\n",
      "|       united states|   1799|\n",
      "|virgin islands br...|   1548|\n",
      "|            guernsey|   1452|\n",
      "|         isle of man|    774|\n",
      "|           hong kong|    717|\n",
      "|               wales|    715|\n",
      "|         netherlands|    694|\n",
      "|    northern ireland|    694|\n",
      "|          seychelles|    633|\n",
      "|             ireland|    584|\n",
      "|               china|    557|\n",
      "|           gibraltar|    413|\n",
      "|             germany|    391|\n",
      "|    marshall islands|    369|\n",
      "|              france|    359|\n",
      "|              norway|    345|\n",
      "+--------------------+-------+\n",
      "only showing top 20 rows\n",
      "\n"
     ]
    }
   ],
   "source": [
    "owners.filter(owners.is_owner == True)\\\n",
    "    .groupby(['company_country'])\\\n",
    "    .count()\\\n",
    "    .sort('count', ascending=False)\\\n",
    "    .show()\n"
   ]
  },
  {
   "cell_type": "code",
   "execution_count": 17,
   "metadata": {},
   "outputs": [
    {
     "name": "stdout",
     "output_type": "stream",
     "text": [
      "+--------------------------------------------------------------------------------------+---------------------+-------+\n",
      "|company_type                                                                          |officer_role         |count  |\n",
      "+--------------------------------------------------------------------------------------+---------------------+-------+\n",
      "|Private limited company                                                               |Director             |7305028|\n",
      "|Private limited company                                                               |NULL                 |1283809|\n",
      "|Private limited company                                                               |Secretary            |1014104|\n",
      "|Private limited by guarantee without share capital                                    |Director             |376686 |\n",
      "|Private Limited Company by guarantee without share capital, use of 'Limited' exemption|Director             |138571 |\n",
      "|Limited liability partnership                                                         |LLP Designated Member|115722 |\n",
      "|Private limited by guarantee without share capital                                    |Secretary            |53513  |\n",
      "|Overseas entity                                                                       |NULL                 |40102  |\n",
      "|Overseas company                                                                      |Director             |34238  |\n",
      "|Limited liability partnership                                                         |LLP Member           |25192  |\n",
      "|Private limited by guarantee without share capital                                    |NULL                 |24435  |\n",
      "|Limited partnership                                                                   |NULL                 |21099  |\n",
      "|Public limited company                                                                |Director             |15570  |\n",
      "|Private Limited Company by guarantee without share capital, use of 'Limited' exemption|Secretary            |13437  |\n",
      "|Limited liability partnership                                                         |NULL                 |11552  |\n",
      "|Overseas company                                                                      |Secretary            |8749   |\n",
      "|Private unlimited company                                                             |Director             |8473   |\n",
      "|Overseas entity                                                                       |Managing Officer     |7369   |\n",
      "|Private Limited Company by guarantee without share capital, use of 'Limited' exemption|NULL                 |6225   |\n",
      "|Public limited company                                                                |Secretary            |4008   |\n",
      "+--------------------------------------------------------------------------------------+---------------------+-------+\n",
      "only showing top 20 rows\n",
      "\n"
     ]
    }
   ],
   "source": [
    "owners.join(companies, owners.company_number == companies.company_number, how='left')\\\n",
    "    .groupby([companies.company_type, owners.officer_role])\\\n",
    "    .count()\\\n",
    "    .sort('count', ascending=False)\\\n",
    "    .show(truncate=False)"
   ]
  },
  {
   "cell_type": "code",
   "execution_count": 18,
   "metadata": {},
   "outputs": [
    {
     "name": "stdout",
     "output_type": "stream",
     "text": [
      "+--------------------------------------------------------------------+-----+\n",
      "|company_name                                                        |count|\n",
      "+--------------------------------------------------------------------+-----+\n",
      "|Albert Bowling Club Limited                                         |5    |\n",
      "|Stadco Limited                                                      |5    |\n",
      "|Newcastle Upon Tyne Law Society                                     |5    |\n",
      "|Working Men's College Corporation                                   |5    |\n",
      "|Sheffield Masonic Hall Company Limited.(the)                        |5    |\n",
      "|Rye Cattle Market Company Limited(the)                              |5    |\n",
      "|Public Picture Gallery Fund Birmingham                              |5    |\n",
      "|Shorthorn Society Of The United Kingdom Of Great Britain And Ireland|5    |\n",
      "|Peter Maurice Music Company Limited(the)                            |5    |\n",
      "|Dvhl1 Limited                                                       |5    |\n",
      "|Kentstone Properties Limited                                        |5    |\n",
      "|British Chambers Of Commerce                                        |5    |\n",
      "|Iowa Land Company Limited                                           |5    |\n",
      "|Investment Company Plc(the)                                         |5    |\n",
      "|Ashford Cattle Market Company Limited(the)                          |5    |\n",
      "|Nottinghamshire Law Society                                         |5    |\n",
      "|Cheshire & North Wales Law Society Limited                          |5    |\n",
      "|Manchester Law Society(the)                                         |5    |\n",
      "|Craven Dunnill & Co.limited                                         |5    |\n",
      "|Penrith Farmers And Kidds Public Limited Company(the)               |5    |\n",
      "+--------------------------------------------------------------------+-----+\n",
      "only showing top 20 rows\n",
      "\n"
     ]
    }
   ],
   "source": [
    "owners.groupBy('company_number')\\\n",
    "    .count()\\\n",
    "    .join(companies, 'company_number', how='left')\\\n",
    "    .select([\n",
    "        'company_name',\n",
    "        'count'\n",
    "    ])\\\n",
    "    .sort('count', ascending=False)\\\n",
    "    .show(truncate=False)"
   ]
  },
  {
   "cell_type": "code",
   "execution_count": 19,
   "metadata": {},
   "outputs": [
    {
     "name": "stdout",
     "output_type": "stream",
     "text": [
      "+-------------+---------------------------------------------------+-------+\n",
      "|category     |description                                        |count  |\n",
      "+-------------+---------------------------------------------------+-------+\n",
      "|incorporation|Incorporation                                      |1484882|\n",
      "|gazette      |First Gazette notice for compulsory strike-off     |402049 |\n",
      "|gazette      |Compulsory strike-off action has been discontinued |326098 |\n",
      "|accounts     |Micro company accounts made up to 2023-03-31       |280815 |\n",
      "|accounts     |Micro company accounts made up to 2022-03-31       |259387 |\n",
      "|accounts     |Total exemption full accounts made up to 2023-03-31|255485 |\n",
      "|accounts     |Total exemption full accounts made up to 2022-03-31|237444 |\n",
      "|dissolution  |Compulsory strike-off action has been suspended    |173529 |\n",
      "|accounts     |Total exemption full accounts made up to 2022-12-31|151673 |\n",
      "|accounts     |Micro company accounts made up to 2022-12-31       |145807 |\n",
      "|accounts     |Micro company accounts made up to 2021-03-31       |132307 |\n",
      "|resolution   |Resolutions                                        |128685 |\n",
      "|incorporation|legacy                                             |118048 |\n",
      "|accounts     |Total exemption full accounts made up to 2021-03-31|116002 |\n",
      "|dissolution  |Application to strike the company off the register |110175 |\n",
      "|accounts     |Micro company accounts made up to 2021-12-31       |110159 |\n",
      "|accounts     |Total exemption full accounts made up to 2021-12-31|108648 |\n",
      "|gazette      |First Gazette notice for voluntary strike-off      |107405 |\n",
      "|accounts     |Micro company accounts made up to 2022-09-30       |106688 |\n",
      "|accounts     |Micro company accounts made up to 2022-06-30       |101534 |\n",
      "+-------------+---------------------------------------------------+-------+\n",
      "only showing top 20 rows\n",
      "\n"
     ]
    }
   ],
   "source": [
    "filings.groupBy([\n",
    "    'category',\n",
    "    'description'\n",
    "    ])\\\n",
    "    .count()\\\n",
    "    .sort('count', ascending=False)\\\n",
    "    .show(truncate=False)"
   ]
  },
  {
   "cell_type": "code",
   "execution_count": 20,
   "metadata": {},
   "outputs": [
    {
     "name": "stdout",
     "output_type": "stream",
     "text": [
      "+------------------------------------------------------------+--------------+----------+\n",
      "|company_name                                                |company_number|sum(pages)|\n",
      "+------------------------------------------------------------+--------------+----------+\n",
      "|Mediobanca - Banca Di Credito Finanziario Societa Per Azioni|FC028127      |4737      |\n",
      "|Intesa Sanpaolo S.p.a                                       |FC016201      |4406      |\n",
      "|Obrascon Huarte Lain S.a.                                   |FC034461      |3105      |\n",
      "|NULL                                                        |AC001439      |2104      |\n",
      "|Bayerische Landesbank                                       |FC009267      |2030      |\n",
      "|International Consolidated Airlines Group S.a.              |FC029884      |1950      |\n",
      "|Banco Comercial Portugues S.a.                              |FC026231      |1707      |\n",
      "|Banco Santander S.a.                                        |FC004459      |1679      |\n",
      "|Spw Investments Limited                                     |SC473190      |1619      |\n",
      "|Scottishpower Overseas Holdings Limited                     |SC226541      |1610      |\n",
      "|NULL                                                        |AC001402      |1608      |\n",
      "|Industrial And Commercial Bank Of China Limited             |FC031145      |1605      |\n",
      "|NULL                                                        |AC000016      |1601      |\n",
      "|Bnp Paribas Synergy Limited                                 |02342280      |1478      |\n",
      "|Mytilineos S.a. Uk Branch                                   |FC038044      |1442      |\n",
      "|NULL                                                        |AC000246      |1433      |\n",
      "|NULL                                                        |AC000744      |1385      |\n",
      "|Banco Santander Totta S.a.                                  |FC007891      |1379      |\n",
      "|Banca Del Salento S.p.a.                                    |FC016953      |1346      |\n",
      "|Fc Shipping Limited                                         |05085910      |1333      |\n",
      "+------------------------------------------------------------+--------------+----------+\n",
      "only showing top 20 rows\n",
      "\n"
     ]
    }
   ],
   "source": [
    "filings.groupBy('company_number')\\\n",
    "    .sum('pages')\\\n",
    "    .join(companies, 'company_number', how='left')\\\n",
    "    .select([\n",
    "        'company_name',\n",
    "        'company_number',\n",
    "        'sum(pages)'\n",
    "    ])\\\n",
    "    .sort('sum(pages)', ascending=False)\\\n",
    "    .show(truncate=False)"
   ]
  },
  {
   "cell_type": "code",
   "execution_count": 21,
   "metadata": {},
   "outputs": [
    {
     "data": {
      "text/plain": [
       "0.07061160440373027"
      ]
     },
     "execution_count": 21,
     "metadata": {},
     "output_type": "execute_result"
    }
   ],
   "source": [
    "incorporation_files = filings.join(companies, 'company_number', how='left')\\\n",
    "    .select(['company_name', 'date', 'incorporation_date'])\\\n",
    "    .withColumn('flag_incorporation_file', (col('date') == col('incorporation_date')).cast('int'))\\\n",
    "    .groupBy()\\\n",
    "    .sum('flag_incorporation_file').collect()[0][0]\n",
    "incorporation_files / filings.count()"
   ]
  },
  {
   "cell_type": "code",
   "execution_count": 22,
   "metadata": {},
   "outputs": [],
   "source": [
    "spark.stop()"
   ]
  }
 ],
 "metadata": {
  "kernelspec": {
   "display_name": ".venv",
   "language": "python",
   "name": "python3"
  },
  "language_info": {
   "codemirror_mode": {
    "name": "ipython",
    "version": 3
   },
   "file_extension": ".py",
   "mimetype": "text/x-python",
   "name": "python",
   "nbconvert_exporter": "python",
   "pygments_lexer": "ipython3",
   "version": "3.11.8"
  }
 },
 "nbformat": 4,
 "nbformat_minor": 2
}
