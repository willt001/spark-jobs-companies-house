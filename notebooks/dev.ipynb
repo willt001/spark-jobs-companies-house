{
 "cells": [
  {
   "cell_type": "markdown",
   "metadata": {},
   "source": [
    "This notebook is for the development and testing of the PySpark scripts in the ```./scripts``` directory."
   ]
  },
  {
   "cell_type": "code",
   "execution_count": 23,
   "metadata": {},
   "outputs": [],
   "source": [
    "from pyspark.sql import SparkSession, Window\n",
    "from pyspark.sql.functions import col, datediff, current_date, round, dense_rank, when\n",
    "import os\n",
    "\n",
    "spark = SparkSession.builder.master('local[4]').getOrCreate()"
   ]
  },
  {
   "cell_type": "code",
   "execution_count": null,
   "metadata": {},
   "outputs": [],
   "source": [
    "# Get input file sizes in MB\n",
    "total = 0\n",
    "for file in os.listdir('../corporate_uk'):\n",
    "    print(file, os.path.getsize(f'../corporate_uk/{file}') / (1024**2))\n",
    "    total += os.path.getsize(f'../corporate_uk/{file}') / (1024**2)\n",
    "print(total)"
   ]
  },
  {
   "cell_type": "code",
   "execution_count": null,
   "metadata": {},
   "outputs": [],
   "source": [
    "companies = spark.read.option('delimiter', ';').option('header', 'true').csv('../corporate_uk/companies.csv')\\\n",
    "    .withColumn('current_assets', col('current_assets').cast('double'))\\\n",
    "    .withColumn('average_number_employees_during_period', col('average_number_employees_during_period').cast('double'))\\\n",
    "    .withColumn('account_type', when(col('account_type') == 'Null', None).otherwise(col('account_type')))\n",
    "sic_codes = spark.read.option('delimiter', ';').option('header', 'true').csv('../corporate_uk/companies_sic_codes.csv')\n",
    "filings = spark.read.option('delimiter', ';').option('header', 'true').csv('../corporate_uk/filings.csv')\\\n",
    "    .withColumn('pages', col('pages').cast('int'))\n",
    "owners = spark.read.option('delimiter', ';').option('header', 'true').csv('../corporate_uk/officers_and_owners.csv')"
   ]
  },
  {
   "cell_type": "code",
   "execution_count": null,
   "metadata": {},
   "outputs": [],
   "source": [
    "companies.groupBy('company_status')\\\n",
    "    .count()\\\n",
    "    .sort('count', ascending=False)\\\n",
    "    .show(truncate=False)"
   ]
  },
  {
   "cell_type": "code",
   "execution_count": null,
   "metadata": {},
   "outputs": [],
   "source": [
    "# Which account type is most common in each jurisdiction?\n",
    "w = Window.partitionBy(['jurisdiction']).orderBy(col('count').desc())\n",
    "companies.filter(col('jurisdiction').isNotNull() & col('account_type').isNotNull())\\\n",
    "        .groupBy(['jurisdiction', 'account_type'])\\\n",
    "        .count()\\\n",
    "        .withColumn('rnk', dense_rank().over(w))\\\n",
    "        .where(col('rnk') == 1)\\\n",
    "        .drop(col('rnk'))\\\n",
    "        .sort(col('jurisdiction'))\\\n",
    "        .show(truncate=False)"
   ]
  },
  {
   "cell_type": "code",
   "execution_count": null,
   "metadata": {},
   "outputs": [],
   "source": [
    "sic_codes.groupBy(['sic_section', 'sic_division'])\\\n",
    "    .count()\\\n",
    "    .sort(col('count').desc())\\\n",
    "    .limit(10)\\\n",
    "    .show(truncate=False)"
   ]
  },
  {
   "cell_type": "code",
   "execution_count": null,
   "metadata": {},
   "outputs": [],
   "source": [
    "companies.withColumn('age', datediff(current_date(), col('incorporation_date')) / 365.25)\\\n",
    ".select([\n",
    "    'company_type', \n",
    "    'age'])\\\n",
    ".groupBy('company_type')\\\n",
    ".avg()\\\n",
    ".withColumn('average_age', round(col('avg(age)'), 2))\\\n",
    ".drop(col('avg(age)'))\\\n",
    ".sort(col('average_age'))\\\n",
    ".show(truncate=False)"
   ]
  },
  {
   "cell_type": "code",
   "execution_count": null,
   "metadata": {},
   "outputs": [],
   "source": [
    "companies.filter((companies.next_accounts_overdue == True) | (companies.confirmation_statement_overdue == True))\\\n",
    "    .select(col('company_name'))\\\n",
    "    .distinct()\\\n",
    "    .show()"
   ]
  },
  {
   "cell_type": "code",
   "execution_count": null,
   "metadata": {},
   "outputs": [],
   "source": [
    "companies.groupBy('account_type')\\\n",
    "    .count()\\\n",
    "    .withColumn('percentage', round(100 * col('count') / companies.count(), 3))\\\n",
    "    .sort('percentage', ascending=False)\\\n",
    "    .show(truncate=False)"
   ]
  },
  {
   "cell_type": "code",
   "execution_count": null,
   "metadata": {},
   "outputs": [],
   "source": [
    "# Which SIC codes have the highest current assets on average?\n",
    "companies.join(sic_codes, 'company_number', how='left')\\\n",
    "    .select([\n",
    "        companies.company_number, \n",
    "        sic_codes.sic_code, \n",
    "        sic_codes.sic_description,\n",
    "        companies.current_assets\n",
    "    ])\\\n",
    "    .groupBy('sic_description')\\\n",
    "    .avg('current_assets')\\\n",
    "    .sort('avg(current_assets)', ascending=False)\\\n",
    "    .show(truncate=False)"
   ]
  },
  {
   "cell_type": "code",
   "execution_count": null,
   "metadata": {},
   "outputs": [],
   "source": [
    "companies.groupBy('company_type')\\\n",
    "    .avg('average_number_employees_during_period')\\\n",
    "    .withColumn('avg_employees', col('avg(average_number_employees_during_period)').cast('int'))\\\n",
    "    .drop('avg(average_number_employees_during_period)')\\\n",
    "    .show(truncate=False)"
   ]
  },
  {
   "cell_type": "code",
   "execution_count": null,
   "metadata": {},
   "outputs": [],
   "source": [
    "owners.filter(owners.is_owner == True)\\\n",
    "    .groupby(['company_country'])\\\n",
    "    .count()\\\n",
    "    .sort('count', ascending=False)\\\n",
    "    .show()\n"
   ]
  },
  {
   "cell_type": "code",
   "execution_count": null,
   "metadata": {},
   "outputs": [],
   "source": [
    "owners.join(companies, owners.company_number == companies.company_number, how='left')\\\n",
    "    .groupby([companies.company_type, owners.officer_role])\\\n",
    "    .count()\\\n",
    "    .sort('count', ascending=False)\\\n",
    "    .show(truncate=False)"
   ]
  },
  {
   "cell_type": "code",
   "execution_count": null,
   "metadata": {},
   "outputs": [],
   "source": [
    "owners.groupBy('company_number')\\\n",
    "    .count()\\\n",
    "    .join(companies, 'company_number', how='left')\\\n",
    "    .select([\n",
    "        'company_name',\n",
    "        'count'\n",
    "    ])\\\n",
    "    .sort('count', ascending=False)\\\n",
    "    .show(truncate=False)"
   ]
  },
  {
   "cell_type": "code",
   "execution_count": null,
   "metadata": {},
   "outputs": [],
   "source": [
    "filings.groupBy([\n",
    "    'category',\n",
    "    'description'\n",
    "    ])\\\n",
    "    .count()\\\n",
    "    .sort('count', ascending=False)\\\n",
    "    .show(truncate=False)"
   ]
  },
  {
   "cell_type": "code",
   "execution_count": null,
   "metadata": {},
   "outputs": [],
   "source": [
    "filings.groupBy('company_number')\\\n",
    "    .sum('pages')\\\n",
    "    .join(companies, 'company_number', how='left')\\\n",
    "    .select([\n",
    "        'company_name',\n",
    "        'company_number',\n",
    "        'sum(pages)'\n",
    "    ])\\\n",
    "    .sort('sum(pages)', ascending=False)\\\n",
    "    .show(truncate=False)"
   ]
  },
  {
   "cell_type": "code",
   "execution_count": null,
   "metadata": {},
   "outputs": [],
   "source": [
    "incorporation_files = filings.join(companies, 'company_number', how='left')\\\n",
    "    .select(['company_name', 'date', 'incorporation_date'])\\\n",
    "    .withColumn('flag_incorporation_file', (col('date') == col('incorporation_date')).cast('int'))\\\n",
    "    .groupBy()\\\n",
    "    .sum('flag_incorporation_file').collect()[0][0]\n",
    "incorporation_files / filings.count()"
   ]
  },
  {
   "cell_type": "code",
   "execution_count": null,
   "metadata": {},
   "outputs": [],
   "source": [
    "spark.stop()"
   ]
  }
 ],
 "metadata": {
  "kernelspec": {
   "display_name": ".venv",
   "language": "python",
   "name": "python3"
  },
  "language_info": {
   "codemirror_mode": {
    "name": "ipython",
    "version": 3
   },
   "file_extension": ".py",
   "mimetype": "text/x-python",
   "name": "python",
   "nbconvert_exporter": "python",
   "pygments_lexer": "ipython3",
   "version": "3.11.8"
  }
 },
 "nbformat": 4,
 "nbformat_minor": 2
}
