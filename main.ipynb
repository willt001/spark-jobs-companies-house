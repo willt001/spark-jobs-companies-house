{
 "cells": [
  {
   "cell_type": "code",
   "execution_count": 52,
   "metadata": {},
   "outputs": [],
   "source": [
    "from pyspark.sql import SparkSession, Window\n",
    "from pyspark.sql.functions import col, row_number, datediff, current_date, round\n",
    "\n",
    "\n",
    "spark = SparkSession.builder.master('local[2]').getOrCreate()"
   ]
  },
  {
   "cell_type": "code",
   "execution_count": 1,
   "metadata": {},
   "outputs": [],
   "source": [
    "from pyspark.sql import SparkSession, Window\n",
    "from pyspark.sql.functions import col, row_number, datediff, current_date, round\n",
    "\n",
    "\n",
    "spark = (\n",
    "    SparkSession.builder\n",
    "    .master('spark://192.168.68.68:7077')\n",
    "    .config(\"spark.executor.instances\", 1)\n",
    "    .config(\"spark.executor.cores\", \"2\")\n",
    "    .config(\"spark.executor.memory\", \"2G\")\n",
    "    .appName('CompaniesHouse')\n",
    "    .getOrCreate()\n",
    ")\n",
    "sc = spark.sparkContext"
   ]
  },
  {
   "cell_type": "code",
   "execution_count": 2,
   "metadata": {},
   "outputs": [
    {
     "name": "stdout",
     "output_type": "stream",
     "text": [
      "root\n",
      " |-- company_number: string (nullable = true)\n",
      " |-- company_type: string (nullable = true)\n",
      " |-- office_address: string (nullable = true)\n",
      " |-- incorporation_date: string (nullable = true)\n",
      " |-- jurisdiction: string (nullable = true)\n",
      " |-- company_status: string (nullable = true)\n",
      " |-- account_type: string (nullable = true)\n",
      " |-- company_name: string (nullable = true)\n",
      " |-- sic_codes: string (nullable = true)\n",
      " |-- date_of_cessation: string (nullable = true)\n",
      " |-- next_accounts_overdue: string (nullable = true)\n",
      " |-- confirmation_statement_overdue: string (nullable = true)\n",
      " |-- owners: string (nullable = true)\n",
      " |-- officers: string (nullable = true)\n",
      " |-- average_number_employees_during_period: double (nullable = true)\n",
      " |-- current_assets: double (nullable = true)\n",
      " |-- last_accounts_period_end: string (nullable = true)\n",
      " |-- company_url: string (nullable = true)\n",
      "\n",
      "root\n",
      " |-- company_number: string (nullable = true)\n",
      " |-- sic_code: string (nullable = true)\n",
      " |-- sic_description: string (nullable = true)\n",
      " |-- sic_section: string (nullable = true)\n",
      " |-- sic_division: string (nullable = true)\n",
      " |-- company_url: string (nullable = true)\n",
      "\n",
      "root\n",
      " |-- company_number: string (nullable = true)\n",
      " |-- date: string (nullable = true)\n",
      " |-- category: string (nullable = true)\n",
      " |-- pages: integer (nullable = true)\n",
      " |-- description: string (nullable = true)\n",
      "\n",
      "root\n",
      " |-- company_number: string (nullable = true)\n",
      " |-- name: string (nullable = true)\n",
      " |-- kind: string (nullable = true)\n",
      " |-- officer_role: string (nullable = true)\n",
      " |-- occupation: string (nullable = true)\n",
      " |-- date: string (nullable = true)\n",
      " |-- is_owner: string (nullable = true)\n",
      " |-- country_of_residence: string (nullable = true)\n",
      " |-- nationality: string (nullable = true)\n",
      " |-- company_country: string (nullable = true)\n",
      " |-- person_id: string (nullable = true)\n",
      " |-- person_url: string (nullable = true)\n",
      "\n"
     ]
    }
   ],
   "source": [
    "companies = spark.read.option('delimiter', ';').option('header', 'true').csv('./corporate_uk/companies.csv')\\\n",
    "    .withColumn('current_assets', col('current_assets').cast('double'))\\\n",
    "    .withColumn('average_number_employees_during_period', col('average_number_employees_during_period').cast('double'))\n",
    "sic_codes = spark.read.option('delimiter', ';').option('header', 'true').csv('./corporate_uk/companies_sic_codes.csv')\n",
    "filings = spark.read.option('delimiter', ';').option('header', 'true').csv('./corporate_uk/filings.csv')\\\n",
    "    .withColumn('pages', col('pages').cast('int'))\n",
    "owners = spark.read.option('delimiter', ';').option('header', 'true').csv('./corporate_uk/officers_and_owners.csv')\n",
    "companies.printSchema()\n",
    "sic_codes.printSchema()\n",
    "filings.printSchema()\n",
    "owners.printSchema()"
   ]
  },
  {
   "cell_type": "code",
   "execution_count": 6,
   "metadata": {},
   "outputs": [
    {
     "name": "stdout",
     "output_type": "stream",
     "text": [
      "+----------------------+-------+\n",
      "|company_status        |count  |\n",
      "+----------------------+-------+\n",
      "|Active                |4744110|\n",
      "|Dissolved             |534818 |\n",
      "|Liquidation           |110597 |\n",
      "|Registered            |29219  |\n",
      "|In Administration     |3612   |\n",
      "|Receiver Action       |2683   |\n",
      "|Open                  |1075   |\n",
      "|Removed               |1035   |\n",
      "|Converted / Closed    |591    |\n",
      "|Voluntary Arrangement |513    |\n",
      "|Insolvency Proceedings|345    |\n",
      "|Closed                |302    |\n",
      "+----------------------+-------+\n",
      "\n"
     ]
    }
   ],
   "source": [
    "companies.groupBy('company_status')\\\n",
    "    .count()\\\n",
    "    .sort('count', ascending=False)\\\n",
    "    .show(truncate=False)"
   ]
  },
  {
   "cell_type": "code",
   "execution_count": 4,
   "metadata": {},
   "outputs": [
    {
     "name": "stdout",
     "output_type": "stream",
     "text": [
      "+------------------------+------------------+-------+\n",
      "|company_type            |jurisdiction      |count  |\n",
      "+------------------------+------------------+-------+\n",
      "|UK establishment company|NULL              |1377   |\n",
      "|Private limited company |England/Wales     |4719455|\n",
      "|Private limited company |European Union    |1      |\n",
      "|Overseas entity         |Foreign (Non E.U.)|1      |\n",
      "|Private limited company |Northern Ireland  |79908  |\n",
      "|Private limited company |Scotland          |248863 |\n",
      "|Overseas entity         |United Kingdom    |30252  |\n",
      "|Private limited company |Wales             |32037  |\n",
      "+------------------------+------------------+-------+\n",
      "\n"
     ]
    }
   ],
   "source": [
    "w = Window.partitionBy(['jurisdiction']).orderBy(col('count').desc())\n",
    "companies.groupBy(['company_type', 'jurisdiction'])\\\n",
    "            .count()\\\n",
    "            .withColumn('rnk', row_number().over(w))\\\n",
    "            .where(col('rnk') == 1)\\\n",
    "            .drop(col('rnk'))\\\n",
    "            .show(truncate=False)"
   ]
  },
  {
   "cell_type": "code",
   "execution_count": null,
   "metadata": {},
   "outputs": [
    {
     "name": "stdout",
     "output_type": "stream",
     "text": [
      "+--------------------------------------------------------------------+---------------------------------------------------------------------------+------+\n",
      "|sic_section                                                         |sic_division                                                               |count |\n",
      "+--------------------------------------------------------------------+---------------------------------------------------------------------------+------+\n",
      "|Real estate activities                                              |Real estate activities                                                     |831302|\n",
      "|Wholesale and retail trade; repair of motor vehicles and motorcycles|Retail trade, except of motor vehicles and motorcycles                     |690760|\n",
      "|Construction                                                        |Specialised construction activities                                        |413583|\n",
      "|Information and communication                                       |Computer programming, consultancy and related activities                   |400105|\n",
      "|Professional, scientific and technical activities                   |Activities of head offices; management consultancy activities              |363547|\n",
      "|Wholesale and retail trade; repair of motor vehicles and motorcycles|Wholesale trade, except of motor vehicles and motorcycles                  |325555|\n",
      "|Accommodation and food service activities                           |Food and beverage service activities                                       |321192|\n",
      "|Administrative and support service activities                       |Office administrative, office support and other business support activities|321051|\n",
      "|Construction                                                        |Construction of buildings                                                  |296135|\n",
      "|Other service activities                                            |Other personal service activities                                          |286812|\n",
      "+--------------------------------------------------------------------+---------------------------------------------------------------------------+------+\n",
      "\n"
     ]
    }
   ],
   "source": [
    "sic_codes.groupBy(['sic_section', 'sic_division'])\\\n",
    "    .count()\\\n",
    "    .sort(col('count').desc())\\\n",
    "    .limit(10)\\\n",
    "    .show(truncate=False)"
   ]
  },
  {
   "cell_type": "code",
   "execution_count": null,
   "metadata": {},
   "outputs": [
    {
     "name": "stdout",
     "output_type": "stream",
     "text": [
      "+--------------------------------------------------------------------------------------+-----------+\n",
      "|company_type                                                                          |average_age|\n",
      "+--------------------------------------------------------------------------------------+-----------+\n",
      "|Overseas entity                                                                       |1.8        |\n",
      "|Further education or sixth form college corporation                                   |4.14       |\n",
      "|Protected cell company                                                                |4.75       |\n",
      "|Scottish qualifying partnership                                                       |5.51       |\n",
      "|UK establishment company                                                              |7.11       |\n",
      "|Limited liability partnership                                                         |9.24       |\n",
      "|Private limited company                                                               |9.38       |\n",
      "|United Kingdom Societas                                                               |12.58      |\n",
      "|Private limited by guarantee without share capital                                    |13.72      |\n",
      "|Limited partnership                                                                   |13.95      |\n",
      "|Converted / closed                                                                    |14.33      |\n",
      "|Overseas company                                                                      |16.03      |\n",
      "|Private Limited Company by guarantee without share capital, use of 'Limited' exemption|16.13      |\n",
      "|United Kingdom Economic Interest Grouping                                             |21.25      |\n",
      "|Private unlimited company                                                             |24.68      |\n",
      "|Public limited company                                                                |25.61      |\n",
      "|European Economic Interest Grouping (EEIG)                                            |30.53      |\n",
      "|Private unlimited company without share capital                                       |34.69      |\n",
      "|Private Limited Company, use of 'Limited' exemption                                   |95.98      |\n",
      "|Old public company                                                                    |96.45      |\n",
      "+--------------------------------------------------------------------------------------+-----------+\n",
      "only showing top 20 rows\n",
      "\n"
     ]
    }
   ],
   "source": [
    "companies.withColumn('age', datediff(current_date(), col('incorporation_date')) / 365.25)\\\n",
    ".select([\n",
    "    'company_type', \n",
    "    'age'])\\\n",
    ".groupBy('company_type')\\\n",
    ".avg()\\\n",
    ".withColumn('average_age', round(col('avg(age)'), 2))\\\n",
    ".drop(col('avg(age)'))\\\n",
    ".sort(col('average_age'))\\\n",
    ".show(truncate=False)"
   ]
  },
  {
   "cell_type": "code",
   "execution_count": 8,
   "metadata": {},
   "outputs": [
    {
     "name": "stdout",
     "output_type": "stream",
     "text": [
      "+--------------------+\n",
      "|        company_name|\n",
      "+--------------------+\n",
      "|  Jensen Telecom Ltd|\n",
      "| Barrow Boys Limited|\n",
      "|Seagull Internati...|\n",
      "|  Deborah Coates Ltd|\n",
      "|2mc Holdings Limited|\n",
      "|Sunny Sandcastles...|\n",
      "|     Uneed2relax Ltd|\n",
      "|Serhat Wholesale ...|\n",
      "|         Demodem Ltd|\n",
      "|Florin Contracts ...|\n",
      "|Cullingford Carpe...|\n",
      "|Woodstock Product...|\n",
      "|Waves Hotels Grou...|\n",
      "|  Shollwaves Limited|\n",
      "|Industrialize Uk Ltd|\n",
      "|Whole Recruitment...|\n",
      "|  Bertea Ipswich Ltd|\n",
      "|Focus Industry An...|\n",
      "|Mns Retail Interi...|\n",
      "|       Sdhac Limited|\n",
      "+--------------------+\n",
      "only showing top 20 rows\n",
      "\n"
     ]
    }
   ],
   "source": [
    "companies.filter((companies.next_accounts_overdue == True) | (companies.confirmation_statement_overdue == True))\\\n",
    "    .select(col('company_name'))\\\n",
    "    .distinct()\\\n",
    "    .show()"
   ]
  },
  {
   "cell_type": "code",
   "execution_count": null,
   "metadata": {},
   "outputs": [
    {
     "name": "stdout",
     "output_type": "stream",
     "text": [
      "+---------------------------+-------+----------+\n",
      "|account_type               |count  |percentage|\n",
      "+---------------------------+-------+----------+\n",
      "|Micro Entity               |1843452|33.956    |\n",
      "|Total Exemption Full       |1346638|24.805    |\n",
      "|Dormant                    |742074 |13.669    |\n",
      "|Null                       |717664 |13.219    |\n",
      "|NULL                       |365376 |6.73      |\n",
      "|Unaudited abridged         |175651 |3.235     |\n",
      "|Full                       |96017  |1.769     |\n",
      "|Small                      |72571  |1.337     |\n",
      "|Group                      |27025  |0.498     |\n",
      "|Audit Exemption Subsidiary |25788  |0.475     |\n",
      "|Total Exemption Small      |12266  |0.226     |\n",
      "|Medium                     |1451   |0.027     |\n",
      "|Audited abridged           |1437   |0.026     |\n",
      "|No accounts type available |928    |0.017     |\n",
      "|Filing Exemption Subsidiary|367    |0.007     |\n",
      "|Interim                    |162    |0.003     |\n",
      "|Partial Exemption          |29     |0.001     |\n",
      "|Initial                    |4      |0.0       |\n",
      "+---------------------------+-------+----------+\n",
      "\n"
     ]
    }
   ],
   "source": [
    "companies.groupBy('account_type')\\\n",
    "    .count()\\\n",
    "    .withColumn('percentage', round(100 * col('count') / companies.count(), 3))\\\n",
    "    .sort('percentage', ascending=False)\\\n",
    "    .show(truncate=False)"
   ]
  },
  {
   "cell_type": "code",
   "execution_count": 29,
   "metadata": {},
   "outputs": [
    {
     "name": "stdout",
     "output_type": "stream",
     "text": [
      "+--------------------------------------------------------------------------------------------------+--------------------+\n",
      "|sic_description                                                                                   |avg(current_assets) |\n",
      "+--------------------------------------------------------------------------------------------------+--------------------+\n",
      "|Banks                                                                                             |1.6769202507543105E8|\n",
      "|Financial leasing                                                                                 |1.1421620102743903E8|\n",
      "|Security dealing on own account                                                                   |3.2738479891555935E7|\n",
      "|Activities of mortgage finance companies                                                          |2.472619615787771E7 |\n",
      "|Treatment and disposal of hazardous waste                                                         |1.643513333625731E7 |\n",
      "|Factoring                                                                                         |1.521084158490566E7 |\n",
      "|Manufacture of fertilizers and nitrogen compounds                                                 |1.1035204849315068E7|\n",
      "|Activities of unit trusts                                                                         |1.017551557142857E7 |\n",
      "|Activities of production holding companies                                                        |9620636.87254902    |\n",
      "|Cold drawing of bars                                                                              |9249942.444444444   |\n",
      "|Activities of credit bureaus                                                                      |6584702.6           |\n",
      "|Activities of investment trusts                                                                   |5485144.813391877   |\n",
      "|Other credit granting n.e.c.                                                                      |5366580.212695795   |\n",
      "|Security and commodity contracts dealing activities                                               |5068651.659494855   |\n",
      "|Treatment and disposal of non-hazardous waste                                                     |4837203.057938299   |\n",
      "|Credit granting by non-deposit taking finance houses and other specialist consumer credit grantors|4060420.9984686063  |\n",
      "|Cold drawing of wire                                                                              |3899323.0           |\n",
      "|Activities of financial services holding companies                                                |3882720.0523186685  |\n",
      "|Cold rolling of narrow strip                                                                      |3521299.846153846   |\n",
      "|Mining of uranium and thorium ores                                                                |3366247.3333333335  |\n",
      "+--------------------------------------------------------------------------------------------------+--------------------+\n",
      "only showing top 20 rows\n",
      "\n"
     ]
    }
   ],
   "source": [
    "companies.join(sic_codes, 'company_number', how='left')\\\n",
    "    .select([\n",
    "        companies.company_number, \n",
    "        sic_codes.sic_code, \n",
    "        sic_codes.sic_description,\n",
    "        companies.current_assets\n",
    "    ])\\\n",
    "    .groupBy('sic_description')\\\n",
    "    .avg('current_assets')\\\n",
    "    .sort('avg(current_assets)', ascending=False)\\\n",
    "    .show(truncate=False)"
   ]
  },
  {
   "cell_type": "code",
   "execution_count": 39,
   "metadata": {},
   "outputs": [
    {
     "name": "stdout",
     "output_type": "stream",
     "text": [
      "+--------------------------------------------------------------------------------------+-------------+\n",
      "|company_type                                                                          |avg_employees|\n",
      "+--------------------------------------------------------------------------------------+-------------+\n",
      "|Converted / closed                                                                    |2            |\n",
      "|Private unlimited company                                                             |11           |\n",
      "|Public limited company                                                                |49           |\n",
      "|Private limited company                                                               |206          |\n",
      "|Private limited by guarantee without share capital                                    |251          |\n",
      "|Private Limited Company by guarantee without share capital, use of 'Limited' exemption|21           |\n",
      "|Private unlimited company without share capital                                       |1            |\n",
      "|Private Limited Company, use of 'Limited' exemption                                   |2            |\n",
      "|Limited liability partnership                                                         |544          |\n",
      "|United Kingdom Economic Interest Grouping                                             |NULL         |\n",
      "|Old public company                                                                    |NULL         |\n",
      "|Scottish qualifying partnership                                                       |NULL         |\n",
      "|Limited partnership                                                                   |NULL         |\n",
      "|European Economic Interest Grouping (EEIG)                                            |NULL         |\n",
      "|Overseas entity                                                                       |NULL         |\n",
      "|UK establishment company                                                              |NULL         |\n",
      "|Overseas company                                                                      |NULL         |\n",
      "|United Kingdom Societas                                                               |NULL         |\n",
      "|Protected cell company                                                                |NULL         |\n",
      "|Other company type                                                                    |NULL         |\n",
      "+--------------------------------------------------------------------------------------+-------------+\n",
      "only showing top 20 rows\n",
      "\n"
     ]
    }
   ],
   "source": [
    "companies.groupBy('company_type')\\\n",
    "    .avg('average_number_employees_during_period')\\\n",
    "    .withColumn('avg_employees', col('avg(average_number_employees_during_period)').cast('int'))\\\n",
    "    .drop('avg(average_number_employees_during_period)')\\\n",
    "    .show(truncate=False)"
   ]
  },
  {
   "cell_type": "code",
   "execution_count": 11,
   "metadata": {},
   "outputs": [
    {
     "name": "stdout",
     "output_type": "stream",
     "text": [
      "+--------------------+-------+\n",
      "|     company_country|  count|\n",
      "+--------------------+-------+\n",
      "|                NULL|3908976|\n",
      "|      united kingdom| 173234|\n",
      "|            scotland|   3912|\n",
      "|              jersey|   1891|\n",
      "|       united states|   1799|\n",
      "|virgin islands br...|   1548|\n",
      "|            guernsey|   1452|\n",
      "|         isle of man|    774|\n",
      "|           hong kong|    717|\n",
      "|               wales|    715|\n",
      "|         netherlands|    694|\n",
      "|    northern ireland|    694|\n",
      "|          seychelles|    633|\n",
      "|             ireland|    584|\n",
      "|               china|    557|\n",
      "|           gibraltar|    413|\n",
      "|             germany|    391|\n",
      "|    marshall islands|    369|\n",
      "|              france|    359|\n",
      "|              norway|    345|\n",
      "+--------------------+-------+\n",
      "only showing top 20 rows\n",
      "\n"
     ]
    }
   ],
   "source": [
    "owners.filter(owners.is_owner == True)\\\n",
    "    .groupby(['company_country'])\\\n",
    "    .count()\\\n",
    "    .sort('count', ascending=False)\\\n",
    "    .show()\n"
   ]
  },
  {
   "cell_type": "code",
   "execution_count": 17,
   "metadata": {},
   "outputs": [
    {
     "name": "stdout",
     "output_type": "stream",
     "text": [
      "+--------------------+--------------------+-------+\n",
      "|        company_type|        officer_role|  count|\n",
      "+--------------------+--------------------+-------+\n",
      "|Private limited c...|            Director|7305028|\n",
      "|Private limited c...|                NULL|1283809|\n",
      "|Private limited c...|           Secretary|1014104|\n",
      "|Private limited b...|            Director| 376686|\n",
      "|Private Limited C...|            Director| 138571|\n",
      "|Limited liability...|LLP Designated Me...| 115722|\n",
      "|Private limited b...|           Secretary|  53513|\n",
      "|     Overseas entity|                NULL|  40102|\n",
      "|    Overseas company|            Director|  34238|\n",
      "|Limited liability...|          LLP Member|  25192|\n",
      "|Private limited b...|                NULL|  24435|\n",
      "| Limited partnership|                NULL|  21099|\n",
      "|Public limited co...|            Director|  15570|\n",
      "|Private Limited C...|           Secretary|  13437|\n",
      "|Limited liability...|                NULL|  11552|\n",
      "|    Overseas company|           Secretary|   8749|\n",
      "|Private unlimited...|            Director|   8473|\n",
      "|     Overseas entity|    Managing Officer|   7369|\n",
      "|Private Limited C...|                NULL|   6225|\n",
      "|Public limited co...|           Secretary|   4008|\n",
      "+--------------------+--------------------+-------+\n",
      "only showing top 20 rows\n",
      "\n"
     ]
    }
   ],
   "source": [
    "owners.join(companies, owners.company_number == companies.company_number, how='left')\\\n",
    "    .groupby([companies.company_type, owners.officer_role])\\\n",
    "    .count()\\\n",
    "    .sort('count', ascending=False)\\\n",
    "    .show(truncate=False)"
   ]
  },
  {
   "cell_type": "code",
   "execution_count": 21,
   "metadata": {},
   "outputs": [
    {
     "name": "stdout",
     "output_type": "stream",
     "text": [
      "+--------------------------------------------+-----+\n",
      "|company_name                                |count|\n",
      "+--------------------------------------------+-----+\n",
      "|Stadco Limited                              |5    |\n",
      "|Newcastle Upon Tyne Law Society             |5    |\n",
      "|Peter Maurice Music Company Limited(the)    |5    |\n",
      "|Public Picture Gallery Fund Birmingham      |5    |\n",
      "|Sheffield Masonic Hall Company Limited.(the)|5    |\n",
      "|Kentstone Properties Limited                |5    |\n",
      "|Bristol Street Fourth Investments Limited   |5    |\n",
      "|Ashford Cattle Market Company Limited(the)  |5    |\n",
      "|Albert Bowling Club Limited                 |5    |\n",
      "|Craven Dunnill & Co.limited                 |5    |\n",
      "|Chemetall Limited                           |5    |\n",
      "|Gresham House Limited                       |5    |\n",
      "|Iowa Land Company Limited                   |5    |\n",
      "|Methodist Insurance Public Limited Company  |5    |\n",
      "|Eastern Counties Laundries Limited          |5    |\n",
      "|Lloyds Bank Plc                             |5    |\n",
      "|Working Men's College Corporation           |5    |\n",
      "|Barnagore Jute Factory Plc(the)             |5    |\n",
      "|The Federation Of London Youth Clubs        |5    |\n",
      "|The Liverpool College Foundation            |5    |\n",
      "+--------------------------------------------+-----+\n",
      "only showing top 20 rows\n",
      "\n"
     ]
    }
   ],
   "source": [
    "owners.groupBy('company_number')\\\n",
    "    .count()\\\n",
    "    .join(companies, 'company_number', how='left')\\\n",
    "    .select([\n",
    "        'company_name',\n",
    "        'count'\n",
    "    ])\\\n",
    "    .sort('count', ascending=False)\\\n",
    "    .show(truncate=False)"
   ]
  },
  {
   "cell_type": "code",
   "execution_count": 26,
   "metadata": {},
   "outputs": [
    {
     "name": "stdout",
     "output_type": "stream",
     "text": [
      "+-------------+---------------------------------------------------+-------+\n",
      "|category     |description                                        |count  |\n",
      "+-------------+---------------------------------------------------+-------+\n",
      "|incorporation|Incorporation                                      |1484882|\n",
      "|gazette      |First Gazette notice for compulsory strike-off     |402049 |\n",
      "|gazette      |Compulsory strike-off action has been discontinued |326098 |\n",
      "|accounts     |Micro company accounts made up to 2023-03-31       |280815 |\n",
      "|accounts     |Micro company accounts made up to 2022-03-31       |259387 |\n",
      "|accounts     |Total exemption full accounts made up to 2023-03-31|255485 |\n",
      "|accounts     |Total exemption full accounts made up to 2022-03-31|237444 |\n",
      "|dissolution  |Compulsory strike-off action has been suspended    |173529 |\n",
      "|accounts     |Total exemption full accounts made up to 2022-12-31|151673 |\n",
      "|accounts     |Micro company accounts made up to 2022-12-31       |145807 |\n",
      "|accounts     |Micro company accounts made up to 2021-03-31       |132307 |\n",
      "|resolution   |Resolutions                                        |128685 |\n",
      "|incorporation|legacy                                             |118048 |\n",
      "|accounts     |Total exemption full accounts made up to 2021-03-31|116002 |\n",
      "|dissolution  |Application to strike the company off the register |110175 |\n",
      "|accounts     |Micro company accounts made up to 2021-12-31       |110159 |\n",
      "|accounts     |Total exemption full accounts made up to 2021-12-31|108648 |\n",
      "|gazette      |First Gazette notice for voluntary strike-off      |107405 |\n",
      "|accounts     |Micro company accounts made up to 2022-09-30       |106688 |\n",
      "|accounts     |Micro company accounts made up to 2022-06-30       |101534 |\n",
      "+-------------+---------------------------------------------------+-------+\n",
      "only showing top 20 rows\n",
      "\n"
     ]
    }
   ],
   "source": [
    "filings.groupBy([\n",
    "    'category',\n",
    "    'description'\n",
    "    ])\\\n",
    "    .count()\\\n",
    "    .sort('count', ascending=False)\\\n",
    "    .show(truncate=False)"
   ]
  },
  {
   "cell_type": "code",
   "execution_count": 34,
   "metadata": {},
   "outputs": [
    {
     "name": "stdout",
     "output_type": "stream",
     "text": [
      "+------------------------------------------------------------+----------+\n",
      "|company_name                                                |sum(pages)|\n",
      "+------------------------------------------------------------+----------+\n",
      "|Mediobanca - Banca Di Credito Finanziario Societa Per Azioni|4737      |\n",
      "|Intesa Sanpaolo S.p.a                                       |4406      |\n",
      "|Obrascon Huarte Lain S.a.                                   |3105      |\n",
      "|NULL                                                        |2104      |\n",
      "|Bayerische Landesbank                                       |2030      |\n",
      "|International Consolidated Airlines Group S.a.              |1950      |\n",
      "|Banco Comercial Portugues S.a.                              |1707      |\n",
      "|Banco Santander S.a.                                        |1679      |\n",
      "|Spw Investments Limited                                     |1619      |\n",
      "|Scottishpower Overseas Holdings Limited                     |1610      |\n",
      "|NULL                                                        |1608      |\n",
      "|Industrial And Commercial Bank Of China Limited             |1605      |\n",
      "|NULL                                                        |1601      |\n",
      "|Bnp Paribas Synergy Limited                                 |1478      |\n",
      "|Mytilineos S.a. Uk Branch                                   |1442      |\n",
      "|NULL                                                        |1433      |\n",
      "|NULL                                                        |1385      |\n",
      "|Banco Santander Totta S.a.                                  |1379      |\n",
      "|Banca Del Salento S.p.a.                                    |1346      |\n",
      "|Fc Shipping Limited                                         |1333      |\n",
      "+------------------------------------------------------------+----------+\n",
      "only showing top 20 rows\n",
      "\n"
     ]
    }
   ],
   "source": [
    "filings.groupBy('company_number')\\\n",
    "    .sum('pages')\\\n",
    "    .join(companies, 'company_number', how='left')\\\n",
    "    .select([\n",
    "        'company_name',\n",
    "        'sum(pages)'\n",
    "    ])\\\n",
    "    .sort('sum(pages)', ascending=False)\\\n",
    "    .show(truncate=False)"
   ]
  },
  {
   "cell_type": "code",
   "execution_count": 55,
   "metadata": {},
   "outputs": [
    {
     "data": {
      "text/plain": [
       "0.07061160440373027"
      ]
     },
     "execution_count": 55,
     "metadata": {},
     "output_type": "execute_result"
    }
   ],
   "source": [
    "incorporation_files = filings.join(companies, 'company_number', how='left')\\\n",
    "    .select(['company_name', 'date', 'incorporation_date'])\\\n",
    "    .withColumn('flag_incorporation_file', (col('date') == col('incorporation_date')).cast('int'))\\\n",
    "    .groupBy()\\\n",
    "    .sum('flag_incorporation_file').collect()[0][0]\n",
    "incorporation_files / filings.count()"
   ]
  },
  {
   "cell_type": "code",
   "execution_count": 56,
   "metadata": {},
   "outputs": [],
   "source": [
    "spark.stop()"
   ]
  }
 ],
 "metadata": {
  "kernelspec": {
   "display_name": ".venv",
   "language": "python",
   "name": "python3"
  },
  "language_info": {
   "codemirror_mode": {
    "name": "ipython",
    "version": 3
   },
   "file_extension": ".py",
   "mimetype": "text/x-python",
   "name": "python",
   "nbconvert_exporter": "python",
   "pygments_lexer": "ipython3",
   "version": "3.11.8"
  }
 },
 "nbformat": 4,
 "nbformat_minor": 2
}
